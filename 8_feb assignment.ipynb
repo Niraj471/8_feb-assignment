{
 "cells": [
  {
   "cell_type": "code",
   "execution_count": 1,
   "id": "f45f1e8e-8f77-4857-a3b4-ce997933d569",
   "metadata": {},
   "outputs": [],
   "source": [
    "##Q1.>\n",
    "\n",
    "##ans>.Your car is agreat example of abtraction. you can start a car by turning or pressing the start buttion.\n",
    "    ##You don't need to know how the engine is getting started,what all components your car has.\n",
    "    ##The car internal implements and complex logic is completly hidden from the user\n"
   ]
  },
  {
   "cell_type": "code",
   "execution_count": 2,
   "id": "a9e0ee17-2254-49a7-ac74-223b3a782baf",
   "metadata": {},
   "outputs": [],
   "source": [
    "##Q2.>\n",
    "\n",
    "##ans.>Abstarction is a way of representation some specific data.\n",
    "    ##Encapsulation is the way of hiding thecomplexity of something and exposing only the parts you wish to expose.\n",
    "    "
   ]
  },
  {
   "cell_type": "code",
   "execution_count": 3,
   "id": "c0ae2f6a-0f11-4eeb-a1ee-c8e7a462c75f",
   "metadata": {},
   "outputs": [],
   "source": [
    "##Q3.>\n",
    "\n",
    "\n",
    "##Ans.>This module provides the infracture for defining abstract base classes(ABC) in python,as outlined in PEP 3119;see the PPE for why this was added to python\n"
   ]
  },
  {
   "cell_type": "code",
   "execution_count": 4,
   "id": "c3ecae70-ec32-4903-85b0-4ac9f49b4626",
   "metadata": {},
   "outputs": [],
   "source": [
    "##Q4.>\n",
    "\n",
    "\n",
    "##Ans.>Data abstarction is a methode where essential elements are displayed to the users and trivial elements arekepst hidden .In Python, abstraction is achieved by using abstarct keyword for class and interface.\n",
    "    ##In abstact classes,we can have abstarct methods as well as concrete methods"
   ]
  },
  {
   "cell_type": "code",
   "execution_count": 5,
   "id": "948a08f1-6b2e-4e6a-abcf-ecaf892252bc",
   "metadata": {},
   "outputs": [],
   "source": [
    "##Q5.>\n",
    "\n",
    "\n",
    "##ans>.Abstract classes cannot br instantiated,but they can be subclassed.When an abstract class is subclassed,the subclass usually provides implements for all of the abstract methods in its parent class.\n",
    "    ##However,if it does not,then the subclass must also be declared abstract.\n",
    "\n"
   ]
  },
  {
   "cell_type": "code",
   "execution_count": null,
   "id": "7bc604e5-9d29-4298-b0b0-5e13ccebcde3",
   "metadata": {},
   "outputs": [],
   "source": []
  }
 ],
 "metadata": {
  "kernelspec": {
   "display_name": "Python 3 (ipykernel)",
   "language": "python",
   "name": "python3"
  },
  "language_info": {
   "codemirror_mode": {
    "name": "ipython",
    "version": 3
   },
   "file_extension": ".py",
   "mimetype": "text/x-python",
   "name": "python",
   "nbconvert_exporter": "python",
   "pygments_lexer": "ipython3",
   "version": "3.10.8"
  }
 },
 "nbformat": 4,
 "nbformat_minor": 5
}
